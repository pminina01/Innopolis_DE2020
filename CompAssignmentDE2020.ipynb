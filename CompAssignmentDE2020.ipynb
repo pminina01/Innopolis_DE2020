{
  "nbformat": 4,
  "nbformat_minor": 0,
  "metadata": {
    "colab": {
      "name": "CompAssignmentDE2020.ipynb",
      "provenance": [],
      "collapsed_sections": []
    },
    "kernelspec": {
      "name": "python3",
      "display_name": "Python 3"
    }
  },
  "cells": [
    {
      "cell_type": "code",
      "metadata": {
        "id": "EMeS_xqz4SHW"
      },
      "source": [
        "from bokeh.plotting import figure, show, output_notebook\n",
        "from bokeh.layouts import row\n",
        "from bokeh.io import push_notebook\n",
        "from math import sqrt\n",
        "\n",
        "output_notebook()"
      ],
      "execution_count": 6,
      "outputs": []
    },
    {
      "cell_type": "code",
      "metadata": {
        "id": "BUSdSKZE9yVA"
      },
      "source": [
        "class DiffEq:\n",
        "    def __init__(self, de=\"sqrt(y-x)/sqrt(x)+1\", x0=1, y0=10, X=15, n=10):\n",
        "        self.de = de\n",
        "        self.x0 = x0\n",
        "        self.y0 = y0\n",
        "        self.X = X\n",
        "        self.n = n\n",
        "        self.h = (self.X - self.x0) / self.n\n",
        "        self.x_arr = [self.x0]\n",
        "        self.y_arr = [self.y0]\n",
        "        self.y_arr_LTE = [self.y0]\n",
        "        self.y_arr_GTE = [self.y0]\n",
        "        for i in range(1, self.n + 1):\n",
        "            self.x_arr.append(self.x_arr[i - 1] + self.h)\n",
        "\n",
        "    def diff_eq(de, x, y):\n",
        "        return eval(de)"
      ],
      "execution_count": 7,
      "outputs": []
    },
    {
      "cell_type": "code",
      "metadata": {
        "id": "aen6O6C99q3X"
      },
      "source": [
        "class EulerMethod(DiffEq):\n",
        "  def solve(self):\n",
        "    for i in range(1,self.n+1):\n",
        "      y_i=self.y_arr[i-1]+self.h*DiffEq.diff_eq(self.de, self.x_arr[i-1],self.y_arr[i-1])\n",
        "      self.y_arr.append(y_i)\n",
        "    return self.y_arr\n",
        "  def LTE(self,y_exact):\n",
        "    for i in range(1,self.n+1):\n",
        "      y_i=y_exact[i-1]+self.h*DiffEq.diff_eq(self.de,self.x_arr[i-1],y_exact[i-1])\n",
        "      self.y_arr_LTE.append(y_i)\n",
        "    euler_LTE=[abs(x - y) for x, y in zip(y_exact, self.y_arr_LTE)]\n",
        "    return euler_LTE"
      ],
      "execution_count": 19,
      "outputs": []
    },
    {
      "cell_type": "code",
      "metadata": {
        "id": "27i-IPn-AvNO"
      },
      "source": [
        "class ImprovedEulerMethod(DiffEq):\n",
        "  def solve(self):\n",
        "    for i in range(1,self.n+1):\n",
        "      x_val=self.x_arr[i-1]+(self.h/2)\n",
        "      y_val=self.y_arr[i-1]+(self.h/2)*DiffEq.diff_eq(self.de, self.x_arr[i-1],self.y_arr[i-1])\n",
        "      y_i=self.y_arr[i-1]+self.h*DiffEq.diff_eq(self.de, x_val,y_val)\n",
        "      self.y_arr.append(y_i)\n",
        "    return self.y_arr\n",
        "  def LTE(self,y_exact):\n",
        "    for i in range(1,self.n+1):\n",
        "      x_val=self.x_arr[i-1]+(self.h/2)\n",
        "      y_val=y_exact[i-1]+(self.h/2)*DiffEq.diff_eq(self.de, self.x_arr[i-1],y_exact[i-1])\n",
        "      y_i=y_exact[i-1]+self.h*DiffEq.diff_eq(self.de, x_val,y_val)\n",
        "      self.y_arr_LTE.append(y_i)\n",
        "    improvedEuler_LTE=[abs(x - y) for x, y in zip(y_exact, self.y_arr_LTE)]\n",
        "    return improvedEuler_LTE"
      ],
      "execution_count": 9,
      "outputs": []
    },
    {
      "cell_type": "code",
      "metadata": {
        "id": "MVvdrBwPB0NW"
      },
      "source": [
        "class RungeKuttaMethod(DiffEq):\n",
        "  def solve(self):\n",
        "    for i in range(1,self.n+1):\n",
        "      k1=DiffEq.diff_eq(self.de, self.x_arr[i-1],self.y_arr[i-1])\n",
        "      k2=DiffEq.diff_eq(self.de, self.x_arr[i-1]+(self.h/2),self.y_arr[i-1]+(self.h*k1)/2)\n",
        "      k3=DiffEq.diff_eq(self.de, self.x_arr[i-1]+(self.h/2),self.y_arr[i-1]+(self.h*k2)/2)\n",
        "      k4=DiffEq.diff_eq(self.de, self.x_arr[i-1]+self.h,self.y_arr[i-1]+self.h*k3)\n",
        "      y_i=self.y_arr[i-1]+(self.h/6)*(k1+2*k2+2*k3+k4)\n",
        "      self.y_arr.append(y_i)\n",
        "    return self.y_arr\n",
        "  def LTE(self,y_exact):\n",
        "    for i in range(1,self.n+1):\n",
        "      k1=DiffEq.diff_eq(self.de, self.x_arr[i-1],y_exact[i-1])\n",
        "      k2=DiffEq.diff_eq(self.de, self.x_arr[i-1]+(self.h/2),y_exact[i-1]+(self.h*k1)/2)\n",
        "      k3=DiffEq.diff_eq(self.de, self.x_arr[i-1]+(self.h/2),y_exact[i-1]+(self.h*k2)/2)\n",
        "      k4=DiffEq.diff_eq(self.de, self.x_arr[i-1]+self.h,y_exact[i-1]+self.h*k3)\n",
        "      y_i=y_exact[i-1]+(self.h/6)*(k1+2*k2+2*k3+k4)\n",
        "      self.y_arr_LTE.append(y_i)\n",
        "      RK_LTE=[abs(x - y) for x, y in zip(y_exact, self.y_arr_LTE)]\n",
        "    return RK_LTE"
      ],
      "execution_count": 20,
      "outputs": []
    },
    {
      "cell_type": "code",
      "metadata": {
        "id": "NXBGKC5ndpT4"
      },
      "source": [
        "class Exact(DiffEq):\n",
        "    def __init__(self, de=\"sqrt(y-x)/sqrt(x)+1\", x0=1, y0=10, X=15, n=10,\n",
        "                 y_sol=\"x*(1+(1+(sqrt(y0-x0)-sqrt(x0))/sqrt(x))**2)\"):\n",
        "        DiffEq.__init__(self, de, x0, y0, X, n)\n",
        "        self.y_sol = y_sol\n",
        "\n",
        "    def solve(self):\n",
        "        x0 = self.x0\n",
        "        y0 = self.y0\n",
        "        for i in range(1, self.n + 1):\n",
        "            x = self.x_arr[i]\n",
        "            self.y_arr.append(eval(self.y_sol))\n",
        "            x = self.x_arr[i]\n",
        "        return self.y_arr"
      ],
      "execution_count": 11,
      "outputs": []
    },
    {
      "cell_type": "code",
      "metadata": {
        "id": "hF9C4drBDQhs"
      },
      "source": [
        "#Input data\n",
        "def Input():\n",
        "    x0=int(input(\"Input x0: \"))\n",
        "    assert x0>0, \"Error: x0 must be greater than zero\"\n",
        "    y0=int(input(\"Input y0: \"))\n",
        "    assert y0>0, \"Error: y0 must be greater than zero\"\n",
        "    assert y0>x0, \"Error: y0 must be greater than x0\"\n",
        "    X=int(input(\"Input X: \"))\n",
        "    assert X>0, \"Error: X must be greater than zero\"\n",
        "    assert X>x0, \"Error: X must be greater than x0\"\n",
        "    N=int(input(\"Input N: \"))\n",
        "    assert N>0, \"Error: N must be greater than zero\"\n",
        "    N_0=int(input(\"Input starting number for graph of errors: \"))\n",
        "    assert N_0>0, \"Error: N must be greater than zero\"\n",
        "    N_n=int(input(\"Input finishing number for graph of errors: \"))\n",
        "    assert N_n>0, \"Error: N must be greater than zero\""
      ],
      "execution_count": 12,
      "outputs": []
    },
    {
      "cell_type": "code",
      "metadata": {
        "id": "e9pRtr-MjmTJ"
      },
      "source": [
        "#Graph of each method and exact solution\n",
        "def PlottGraph(x_arr, euler,IE,RK,exact):\n",
        "  graph=figure(title=\"Methods\",x_axis_label=\"x\", y_axis_label='y')\n",
        "\n",
        "  graph.line(x_arr, euler, line_width =1, color=\"blue\", legend_label = \"Euler method\")\n",
        "  graph.line(x_arr, IE, line_width =1, color=\"red\", legend_label = \"Improved Euler method\")\n",
        "  graph.line(x_arr, RK, line_width =1, color=\"green\", legend_label = \"Runge-Kutta method\")\n",
        "  graph.line(x_arr, exact, line_width =1, color=\"black\", legend_label = \"Exact solution\")\n",
        "\n",
        "  graph.legend.click_policy = \"hide\"\n",
        "  show(graph)"
      ],
      "execution_count": 39,
      "outputs": []
    },
    {
      "cell_type": "code",
      "metadata": {
        "id": "WLWsp6bCEWVG"
      },
      "source": [
        "#Graph of LTE or GTE\n",
        "def PlottLGTEGraph(x_arr, euler,IE,RK,exact, name=\"no name\"):\n",
        "\n",
        "  graphLTE=figure(title=name,x_axis_label=\"x\", y_axis_label='y')\n",
        "\n",
        "  graphLTE.line(x_arr, euler, line_width =1, color=\"blue\", legend_label = \"Euler method\")\n",
        "  graphLTE.line(x_arr, IE, line_width =1, color=\"red\", legend_label = \"Improved Euler method\")\n",
        "  graphLTE.line(x_arr, RK, line_width =1, color=\"green\", legend_label = \"Runge-Kutta method\")\n",
        "\n",
        "  graphLTE.legend.click_policy = \"hide\"\n",
        "  show(graphLTE)\n"
      ],
      "execution_count": 40,
      "outputs": []
    },
    {
      "cell_type": "code",
      "metadata": {
        "id": "cH1_Zxt563KI"
      },
      "source": [
        "#Calculationg and plotting GTE from N_0 to N_n\n",
        "def PlottGTEGraph_n0_n(N_0 = 10,N_n = 100):\n",
        "  euler_GTE = []\n",
        "  IE_GTE = []\n",
        "  RK_GTE = []\n",
        "  x_GTE = []\n",
        "  \n",
        "  #Calculating\n",
        "  for i in range(N_0, N_n + 1):\n",
        "    x_GTE.append(i)\n",
        "  for i in range(N_0, N_n + 1):\n",
        "    ex = Exact(n=i)\n",
        "    ex_results = ex.solve()\n",
        "\n",
        "    eu = EulerMethod(n=i)\n",
        "    eu_results = eu.solve()\n",
        "\n",
        "    IE = ImprovedEulerMethod(n=i)\n",
        "    IE_results = IE.solve()\n",
        "\n",
        "    RKM = RungeKuttaMethod(n=i)\n",
        "    RKM_results = RKM.solve()\n",
        "\n",
        "    euler_GTE.append(max([abs(x - y) for x, y in zip(ex_results, eu_results)]))\n",
        "    IE_GTE.append(max([abs(x - y) for x, y in zip(ex_results, IE_results)]))\n",
        "    RK_GTE.append(max([abs(x - y) for x, y in zip(ex_results, RKM_results)]))\n",
        "  \n",
        "  #Plotting\n",
        "  string=\"GTE for step = (from {} to {})\".format(N_0,N_n)\n",
        "  PlottLGTEGraph(x_GTE, euler_GTE,IE_GTE,RK_GTE,exact, string)\n"
      ],
      "execution_count": 43,
      "outputs": []
    },
    {
      "cell_type": "code",
      "metadata": {
        "id": "3lR11wiuEKdy"
      },
      "source": [
        "#Input data\n",
        "#Input()"
      ],
      "execution_count": null,
      "outputs": []
    },
    {
      "cell_type": "code",
      "metadata": {
        "id": "iGKSLrcxk8B1"
      },
      "source": [
        "#Calculating solution and methods\n",
        "euler=EulerMethod()\n",
        "euler_results=euler.solve()\n",
        "\n",
        "improvedEuler=ImprovedEulerMethod()\n",
        "improvedEuler_results=improvedEuler.solve()\n",
        "\n",
        "RK=RungeKuttaMethod()\n",
        "RK_results=RK.solve()\n",
        "\n",
        "exact=Exact()\n",
        "exact_results=exact.solve()"
      ],
      "execution_count": 22,
      "outputs": []
    },
    {
      "cell_type": "code",
      "metadata": {
        "id": "G33-AtgUEUDt"
      },
      "source": [
        "#Calculating LTE\n",
        "euler_LTE=euler.LTE(exact_results)\n",
        "improvedEuler_LTE=improvedEuler.LTE(exact_results)\n",
        "RK_LTE=RK.LTE(exact_results)"
      ],
      "execution_count": 23,
      "outputs": []
    },
    {
      "cell_type": "code",
      "metadata": {
        "id": "OsyZTKOgJW_K"
      },
      "source": [
        "#Calculating GTE\n",
        "euler_GTE=[abs(x - y) for x, y in zip(exact_results, euler_results)]\n",
        "improvedEuler_GTE=[abs(x - y) for x, y in zip(exact_results, improvedEuler_results)]\n",
        "RK_GTE=[abs(x - y) for x, y in zip(exact_results, RK_results)]"
      ],
      "execution_count": 46,
      "outputs": []
    },
    {
      "cell_type": "code",
      "metadata": {
        "id": "UrFXYnTl-XEp",
        "outputId": "4a767a1a-5d8d-448b-81f6-4fd8a84a9baf",
        "colab": {
          "base_uri": "https://localhost:8080/",
          "height": 1000
        }
      },
      "source": [
        "PlottGraph(euler.x_arr, euler_results,improvedEuler_results,RK_results,exact_results)\n",
        "PlottLGTEGraph(euler.x_arr, euler_LTE,improvedEuler_LTE,RK_LTE,exact_results, \"LTE\")\n",
        "PlottLGTEGraph(euler.x_arr, euler_GTE,improvedEuler_GTE,RK_GTE,exact_results, \"GTE\")\n",
        "PlottGTEGraph_n0_n()"
      ],
      "execution_count": 47,
      "outputs": [
        {
          "output_type": "display_data",
          "data": {
            "application/javascript": [
              "\n",
              "(function(root) {\n",
              "  function now() {\n",
              "    return new Date();\n",
              "  }\n",
              "\n",
              "  var force = true;\n",
              "\n",
              "  if (typeof root._bokeh_onload_callbacks === \"undefined\" || force === true) {\n",
              "    root._bokeh_onload_callbacks = [];\n",
              "    root._bokeh_is_loading = undefined;\n",
              "  }\n",
              "\n",
              "  var JS_MIME_TYPE = 'application/javascript';\n",
              "  var HTML_MIME_TYPE = 'text/html';\n",
              "  var EXEC_MIME_TYPE = 'application/vnd.bokehjs_exec.v0+json';\n",
              "  var CLASS_NAME = 'output_bokeh rendered_html';\n",
              "\n",
              "  /**\n",
              "   * Render data to the DOM node\n",
              "   */\n",
              "  function render(props, node) {\n",
              "    var script = document.createElement(\"script\");\n",
              "    node.appendChild(script);\n",
              "  }\n",
              "\n",
              "  /**\n",
              "   * Handle when an output is cleared or removed\n",
              "   */\n",
              "  function handleClearOutput(event, handle) {\n",
              "    var cell = handle.cell;\n",
              "\n",
              "    var id = cell.output_area._bokeh_element_id;\n",
              "    var server_id = cell.output_area._bokeh_server_id;\n",
              "    // Clean up Bokeh references\n",
              "    if (id != null && id in Bokeh.index) {\n",
              "      Bokeh.index[id].model.document.clear();\n",
              "      delete Bokeh.index[id];\n",
              "    }\n",
              "\n",
              "    if (server_id !== undefined) {\n",
              "      // Clean up Bokeh references\n",
              "      var cmd = \"from bokeh.io.state import curstate; print(curstate().uuid_to_server['\" + server_id + \"'].get_sessions()[0].document.roots[0]._id)\";\n",
              "      cell.notebook.kernel.execute(cmd, {\n",
              "        iopub: {\n",
              "          output: function(msg) {\n",
              "            var id = msg.content.text.trim();\n",
              "            if (id in Bokeh.index) {\n",
              "              Bokeh.index[id].model.document.clear();\n",
              "              delete Bokeh.index[id];\n",
              "            }\n",
              "          }\n",
              "        }\n",
              "      });\n",
              "      // Destroy server and session\n",
              "      var cmd = \"import bokeh.io.notebook as ion; ion.destroy_server('\" + server_id + \"')\";\n",
              "      cell.notebook.kernel.execute(cmd);\n",
              "    }\n",
              "  }\n",
              "\n",
              "  /**\n",
              "   * Handle when a new output is added\n",
              "   */\n",
              "  function handleAddOutput(event, handle) {\n",
              "    var output_area = handle.output_area;\n",
              "    var output = handle.output;\n",
              "\n",
              "    // limit handleAddOutput to display_data with EXEC_MIME_TYPE content only\n",
              "    if ((output.output_type != \"display_data\") || (!output.data.hasOwnProperty(EXEC_MIME_TYPE))) {\n",
              "      return\n",
              "    }\n",
              "\n",
              "    var toinsert = output_area.element.find(\".\" + CLASS_NAME.split(' ')[0]);\n",
              "\n",
              "    if (output.metadata[EXEC_MIME_TYPE][\"id\"] !== undefined) {\n",
              "      toinsert[toinsert.length - 1].firstChild.textContent = output.data[JS_MIME_TYPE];\n",
              "      // store reference to embed id on output_area\n",
              "      output_area._bokeh_element_id = output.metadata[EXEC_MIME_TYPE][\"id\"];\n",
              "    }\n",
              "    if (output.metadata[EXEC_MIME_TYPE][\"server_id\"] !== undefined) {\n",
              "      var bk_div = document.createElement(\"div\");\n",
              "      bk_div.innerHTML = output.data[HTML_MIME_TYPE];\n",
              "      var script_attrs = bk_div.children[0].attributes;\n",
              "      for (var i = 0; i < script_attrs.length; i++) {\n",
              "        toinsert[toinsert.length - 1].firstChild.setAttribute(script_attrs[i].name, script_attrs[i].value);\n",
              "        toinsert[toinsert.length - 1].firstChild.textContent = bk_div.children[0].textContent\n",
              "      }\n",
              "      // store reference to server id on output_area\n",
              "      output_area._bokeh_server_id = output.metadata[EXEC_MIME_TYPE][\"server_id\"];\n",
              "    }\n",
              "  }\n",
              "\n",
              "  function register_renderer(events, OutputArea) {\n",
              "\n",
              "    function append_mime(data, metadata, element) {\n",
              "      // create a DOM node to render to\n",
              "      var toinsert = this.create_output_subarea(\n",
              "        metadata,\n",
              "        CLASS_NAME,\n",
              "        EXEC_MIME_TYPE\n",
              "      );\n",
              "      this.keyboard_manager.register_events(toinsert);\n",
              "      // Render to node\n",
              "      var props = {data: data, metadata: metadata[EXEC_MIME_TYPE]};\n",
              "      render(props, toinsert[toinsert.length - 1]);\n",
              "      element.append(toinsert);\n",
              "      return toinsert\n",
              "    }\n",
              "\n",
              "    /* Handle when an output is cleared or removed */\n",
              "    events.on('clear_output.CodeCell', handleClearOutput);\n",
              "    events.on('delete.Cell', handleClearOutput);\n",
              "\n",
              "    /* Handle when a new output is added */\n",
              "    events.on('output_added.OutputArea', handleAddOutput);\n",
              "\n",
              "    /**\n",
              "     * Register the mime type and append_mime function with output_area\n",
              "     */\n",
              "    OutputArea.prototype.register_mime_type(EXEC_MIME_TYPE, append_mime, {\n",
              "      /* Is output safe? */\n",
              "      safe: true,\n",
              "      /* Index of renderer in `output_area.display_order` */\n",
              "      index: 0\n",
              "    });\n",
              "  }\n",
              "\n",
              "  // register the mime type if in Jupyter Notebook environment and previously unregistered\n",
              "  if (root.Jupyter !== undefined) {\n",
              "    var events = require('base/js/events');\n",
              "    var OutputArea = require('notebook/js/outputarea').OutputArea;\n",
              "\n",
              "    if (OutputArea.prototype.mime_types().indexOf(EXEC_MIME_TYPE) == -1) {\n",
              "      register_renderer(events, OutputArea);\n",
              "    }\n",
              "  }\n",
              "\n",
              "  \n",
              "  if (typeof (root._bokeh_timeout) === \"undefined\" || force === true) {\n",
              "    root._bokeh_timeout = Date.now() + 5000;\n",
              "    root._bokeh_failed_load = false;\n",
              "  }\n",
              "\n",
              "  var NB_LOAD_WARNING = {'data': {'text/html':\n",
              "     \"<div style='background-color: #fdd'>\\n\"+\n",
              "     \"<p>\\n\"+\n",
              "     \"BokehJS does not appear to have successfully loaded. If loading BokehJS from CDN, this \\n\"+\n",
              "     \"may be due to a slow or bad network connection. Possible fixes:\\n\"+\n",
              "     \"</p>\\n\"+\n",
              "     \"<ul>\\n\"+\n",
              "     \"<li>re-rerun `output_notebook()` to attempt to load from CDN again, or</li>\\n\"+\n",
              "     \"<li>use INLINE resources instead, as so:</li>\\n\"+\n",
              "     \"</ul>\\n\"+\n",
              "     \"<code>\\n\"+\n",
              "     \"from bokeh.resources import INLINE\\n\"+\n",
              "     \"output_notebook(resources=INLINE)\\n\"+\n",
              "     \"</code>\\n\"+\n",
              "     \"</div>\"}};\n",
              "\n",
              "  function display_loaded() {\n",
              "    var el = document.getElementById(null);\n",
              "    if (el != null) {\n",
              "      el.textContent = \"BokehJS is loading...\";\n",
              "    }\n",
              "    if (root.Bokeh !== undefined) {\n",
              "      if (el != null) {\n",
              "        el.textContent = \"BokehJS \" + root.Bokeh.version + \" successfully loaded.\";\n",
              "      }\n",
              "    } else if (Date.now() < root._bokeh_timeout) {\n",
              "      setTimeout(display_loaded, 100)\n",
              "    }\n",
              "  }\n",
              "\n",
              "\n",
              "  function run_callbacks() {\n",
              "    try {\n",
              "      root._bokeh_onload_callbacks.forEach(function(callback) {\n",
              "        if (callback != null)\n",
              "          callback();\n",
              "      });\n",
              "    } finally {\n",
              "      delete root._bokeh_onload_callbacks\n",
              "    }\n",
              "    console.debug(\"Bokeh: all callbacks have finished\");\n",
              "  }\n",
              "\n",
              "  function load_libs(css_urls, js_urls, callback) {\n",
              "    if (css_urls == null) css_urls = [];\n",
              "    if (js_urls == null) js_urls = [];\n",
              "\n",
              "    root._bokeh_onload_callbacks.push(callback);\n",
              "    if (root._bokeh_is_loading > 0) {\n",
              "      console.debug(\"Bokeh: BokehJS is being loaded, scheduling callback at\", now());\n",
              "      return null;\n",
              "    }\n",
              "    if (js_urls == null || js_urls.length === 0) {\n",
              "      run_callbacks();\n",
              "      return null;\n",
              "    }\n",
              "    console.debug(\"Bokeh: BokehJS not loaded, scheduling load and callback at\", now());\n",
              "    root._bokeh_is_loading = css_urls.length + js_urls.length;\n",
              "\n",
              "    function on_load() {\n",
              "      root._bokeh_is_loading--;\n",
              "      if (root._bokeh_is_loading === 0) {\n",
              "        console.debug(\"Bokeh: all BokehJS libraries/stylesheets loaded\");\n",
              "        run_callbacks()\n",
              "      }\n",
              "    }\n",
              "\n",
              "    function on_error() {\n",
              "      console.error(\"failed to load \" + url);\n",
              "    }\n",
              "\n",
              "    for (var i = 0; i < css_urls.length; i++) {\n",
              "      var url = css_urls[i];\n",
              "      const element = document.createElement(\"link\");\n",
              "      element.onload = on_load;\n",
              "      element.onerror = on_error;\n",
              "      element.rel = \"stylesheet\";\n",
              "      element.type = \"text/css\";\n",
              "      element.href = url;\n",
              "      console.debug(\"Bokeh: injecting link tag for BokehJS stylesheet: \", url);\n",
              "      document.body.appendChild(element);\n",
              "    }\n",
              "\n",
              "    const hashes = {\"https://cdn.bokeh.org/bokeh/release/bokeh-2.1.1.min.js\": \"kLr4fYcqcSpbuI95brIH3vnnYCquzzSxHPU6XGQCIkQRGJwhg0StNbj1eegrHs12\", \"https://cdn.bokeh.org/bokeh/release/bokeh-widgets-2.1.1.min.js\": \"xIGPmVtaOm+z0BqfSOMn4lOR6ciex448GIKG4eE61LsAvmGj48XcMQZtKcE/UXZe\", \"https://cdn.bokeh.org/bokeh/release/bokeh-tables-2.1.1.min.js\": \"Dc9u1wF/0zApGIWoBbH77iWEHtdmkuYWG839Uzmv8y8yBLXebjO9ZnERsde5Ln/P\", \"https://cdn.bokeh.org/bokeh/release/bokeh-gl-2.1.1.min.js\": \"cT9JaBz7GiRXdENrJLZNSC6eMNF3nh3fa5fTF51Svp+ukxPdwcU5kGXGPBgDCa2j\"};\n",
              "\n",
              "    for (var i = 0; i < js_urls.length; i++) {\n",
              "      var url = js_urls[i];\n",
              "      var element = document.createElement('script');\n",
              "      element.onload = on_load;\n",
              "      element.onerror = on_error;\n",
              "      element.async = false;\n",
              "      element.src = url;\n",
              "      if (url in hashes) {\n",
              "        element.crossOrigin = \"anonymous\";\n",
              "        element.integrity = \"sha384-\" + hashes[url];\n",
              "      }\n",
              "      console.debug(\"Bokeh: injecting script tag for BokehJS library: \", url);\n",
              "      document.head.appendChild(element);\n",
              "    }\n",
              "  };\n",
              "\n",
              "  function inject_raw_css(css) {\n",
              "    const element = document.createElement(\"style\");\n",
              "    element.appendChild(document.createTextNode(css));\n",
              "    document.body.appendChild(element);\n",
              "  }\n",
              "\n",
              "  \n",
              "  var js_urls = [\"https://cdn.bokeh.org/bokeh/release/bokeh-2.1.1.min.js\", \"https://cdn.bokeh.org/bokeh/release/bokeh-widgets-2.1.1.min.js\", \"https://cdn.bokeh.org/bokeh/release/bokeh-tables-2.1.1.min.js\", \"https://cdn.bokeh.org/bokeh/release/bokeh-gl-2.1.1.min.js\"];\n",
              "  var css_urls = [];\n",
              "  \n",
              "\n",
              "  var inline_js = [\n",
              "    function(Bokeh) {\n",
              "      Bokeh.set_log_level(\"info\");\n",
              "    },\n",
              "    function(Bokeh) {\n",
              "    \n",
              "    \n",
              "    }\n",
              "  ];\n",
              "\n",
              "  function run_inline_js() {\n",
              "    \n",
              "    if (root.Bokeh !== undefined || force === true) {\n",
              "      \n",
              "    for (var i = 0; i < inline_js.length; i++) {\n",
              "      inline_js[i].call(root, root.Bokeh);\n",
              "    }\n",
              "    } else if (Date.now() < root._bokeh_timeout) {\n",
              "      setTimeout(run_inline_js, 100);\n",
              "    } else if (!root._bokeh_failed_load) {\n",
              "      console.log(\"Bokeh: BokehJS failed to load within specified timeout.\");\n",
              "      root._bokeh_failed_load = true;\n",
              "    } else if (force !== true) {\n",
              "      var cell = $(document.getElementById(null)).parents('.cell').data().cell;\n",
              "      cell.output_area.append_execute_result(NB_LOAD_WARNING)\n",
              "    }\n",
              "\n",
              "  }\n",
              "\n",
              "  if (root._bokeh_is_loading === 0) {\n",
              "    console.debug(\"Bokeh: BokehJS loaded, going straight to plotting\");\n",
              "    run_inline_js();\n",
              "  } else {\n",
              "    load_libs(css_urls, js_urls, function() {\n",
              "      console.debug(\"Bokeh: BokehJS plotting callback run at\", now());\n",
              "      run_inline_js();\n",
              "    });\n",
              "  }\n",
              "}(window));"
            ],
            "application/vnd.bokehjs_load.v0+json": "\n(function(root) {\n  function now() {\n    return new Date();\n  }\n\n  var force = true;\n\n  if (typeof root._bokeh_onload_callbacks === \"undefined\" || force === true) {\n    root._bokeh_onload_callbacks = [];\n    root._bokeh_is_loading = undefined;\n  }\n\n  \n\n  \n  if (typeof (root._bokeh_timeout) === \"undefined\" || force === true) {\n    root._bokeh_timeout = Date.now() + 5000;\n    root._bokeh_failed_load = false;\n  }\n\n  var NB_LOAD_WARNING = {'data': {'text/html':\n     \"<div style='background-color: #fdd'>\\n\"+\n     \"<p>\\n\"+\n     \"BokehJS does not appear to have successfully loaded. If loading BokehJS from CDN, this \\n\"+\n     \"may be due to a slow or bad network connection. Possible fixes:\\n\"+\n     \"</p>\\n\"+\n     \"<ul>\\n\"+\n     \"<li>re-rerun `output_notebook()` to attempt to load from CDN again, or</li>\\n\"+\n     \"<li>use INLINE resources instead, as so:</li>\\n\"+\n     \"</ul>\\n\"+\n     \"<code>\\n\"+\n     \"from bokeh.resources import INLINE\\n\"+\n     \"output_notebook(resources=INLINE)\\n\"+\n     \"</code>\\n\"+\n     \"</div>\"}};\n\n  function display_loaded() {\n    var el = document.getElementById(null);\n    if (el != null) {\n      el.textContent = \"BokehJS is loading...\";\n    }\n    if (root.Bokeh !== undefined) {\n      if (el != null) {\n        el.textContent = \"BokehJS \" + root.Bokeh.version + \" successfully loaded.\";\n      }\n    } else if (Date.now() < root._bokeh_timeout) {\n      setTimeout(display_loaded, 100)\n    }\n  }\n\n\n  function run_callbacks() {\n    try {\n      root._bokeh_onload_callbacks.forEach(function(callback) {\n        if (callback != null)\n          callback();\n      });\n    } finally {\n      delete root._bokeh_onload_callbacks\n    }\n    console.debug(\"Bokeh: all callbacks have finished\");\n  }\n\n  function load_libs(css_urls, js_urls, callback) {\n    if (css_urls == null) css_urls = [];\n    if (js_urls == null) js_urls = [];\n\n    root._bokeh_onload_callbacks.push(callback);\n    if (root._bokeh_is_loading > 0) {\n      console.debug(\"Bokeh: BokehJS is being loaded, scheduling callback at\", now());\n      return null;\n    }\n    if (js_urls == null || js_urls.length === 0) {\n      run_callbacks();\n      return null;\n    }\n    console.debug(\"Bokeh: BokehJS not loaded, scheduling load and callback at\", now());\n    root._bokeh_is_loading = css_urls.length + js_urls.length;\n\n    function on_load() {\n      root._bokeh_is_loading--;\n      if (root._bokeh_is_loading === 0) {\n        console.debug(\"Bokeh: all BokehJS libraries/stylesheets loaded\");\n        run_callbacks()\n      }\n    }\n\n    function on_error() {\n      console.error(\"failed to load \" + url);\n    }\n\n    for (var i = 0; i < css_urls.length; i++) {\n      var url = css_urls[i];\n      const element = document.createElement(\"link\");\n      element.onload = on_load;\n      element.onerror = on_error;\n      element.rel = \"stylesheet\";\n      element.type = \"text/css\";\n      element.href = url;\n      console.debug(\"Bokeh: injecting link tag for BokehJS stylesheet: \", url);\n      document.body.appendChild(element);\n    }\n\n    const hashes = {\"https://cdn.bokeh.org/bokeh/release/bokeh-2.1.1.min.js\": \"kLr4fYcqcSpbuI95brIH3vnnYCquzzSxHPU6XGQCIkQRGJwhg0StNbj1eegrHs12\", \"https://cdn.bokeh.org/bokeh/release/bokeh-widgets-2.1.1.min.js\": \"xIGPmVtaOm+z0BqfSOMn4lOR6ciex448GIKG4eE61LsAvmGj48XcMQZtKcE/UXZe\", \"https://cdn.bokeh.org/bokeh/release/bokeh-tables-2.1.1.min.js\": \"Dc9u1wF/0zApGIWoBbH77iWEHtdmkuYWG839Uzmv8y8yBLXebjO9ZnERsde5Ln/P\", \"https://cdn.bokeh.org/bokeh/release/bokeh-gl-2.1.1.min.js\": \"cT9JaBz7GiRXdENrJLZNSC6eMNF3nh3fa5fTF51Svp+ukxPdwcU5kGXGPBgDCa2j\"};\n\n    for (var i = 0; i < js_urls.length; i++) {\n      var url = js_urls[i];\n      var element = document.createElement('script');\n      element.onload = on_load;\n      element.onerror = on_error;\n      element.async = false;\n      element.src = url;\n      if (url in hashes) {\n        element.crossOrigin = \"anonymous\";\n        element.integrity = \"sha384-\" + hashes[url];\n      }\n      console.debug(\"Bokeh: injecting script tag for BokehJS library: \", url);\n      document.head.appendChild(element);\n    }\n  };\n\n  function inject_raw_css(css) {\n    const element = document.createElement(\"style\");\n    element.appendChild(document.createTextNode(css));\n    document.body.appendChild(element);\n  }\n\n  \n  var js_urls = [\"https://cdn.bokeh.org/bokeh/release/bokeh-2.1.1.min.js\", \"https://cdn.bokeh.org/bokeh/release/bokeh-widgets-2.1.1.min.js\", \"https://cdn.bokeh.org/bokeh/release/bokeh-tables-2.1.1.min.js\", \"https://cdn.bokeh.org/bokeh/release/bokeh-gl-2.1.1.min.js\"];\n  var css_urls = [];\n  \n\n  var inline_js = [\n    function(Bokeh) {\n      Bokeh.set_log_level(\"info\");\n    },\n    function(Bokeh) {\n    \n    \n    }\n  ];\n\n  function run_inline_js() {\n    \n    if (root.Bokeh !== undefined || force === true) {\n      \n    for (var i = 0; i < inline_js.length; i++) {\n      inline_js[i].call(root, root.Bokeh);\n    }\n    } else if (Date.now() < root._bokeh_timeout) {\n      setTimeout(run_inline_js, 100);\n    } else if (!root._bokeh_failed_load) {\n      console.log(\"Bokeh: BokehJS failed to load within specified timeout.\");\n      root._bokeh_failed_load = true;\n    } else if (force !== true) {\n      var cell = $(document.getElementById(null)).parents('.cell').data().cell;\n      cell.output_area.append_execute_result(NB_LOAD_WARNING)\n    }\n\n  }\n\n  if (root._bokeh_is_loading === 0) {\n    console.debug(\"Bokeh: BokehJS loaded, going straight to plotting\");\n    run_inline_js();\n  } else {\n    load_libs(css_urls, js_urls, function() {\n      console.debug(\"Bokeh: BokehJS plotting callback run at\", now());\n      run_inline_js();\n    });\n  }\n}(window));"
          },
          "metadata": {
            "tags": []
          }
        },
        {
          "output_type": "display_data",
          "data": {
            "text/html": [
              "\n",
              "\n",
              "\n",
              "\n",
              "\n",
              "\n",
              "  <div class=\"bk-root\" id=\"a907d9e6-219d-427e-bf65-e0585cc7be8d\" data-root-id=\"5533\"></div>\n"
            ]
          },
          "metadata": {
            "tags": []
          }
        },
        {
          "output_type": "display_data",
          "data": {
            "application/javascript": [
              "(function(root) {\n",
              "  function embed_document(root) {\n",
              "    \n",
              "  var docs_json = {\"ee847510-2521-44b4-9e7d-4f9804988c4f\":{\"roots\":{\"references\":[{\"attributes\":{\"below\":[{\"id\":\"5544\"}],\"center\":[{\"id\":\"5547\"},{\"id\":\"5551\"},{\"id\":\"5579\"}],\"left\":[{\"id\":\"5548\"}],\"renderers\":[{\"id\":\"5569\"},{\"id\":\"5584\"},{\"id\":\"5600\"},{\"id\":\"5618\"}],\"title\":{\"id\":\"5534\"},\"toolbar\":{\"id\":\"5559\"},\"x_range\":{\"id\":\"5536\"},\"x_scale\":{\"id\":\"5540\"},\"y_range\":{\"id\":\"5538\"},\"y_scale\":{\"id\":\"5542\"}},\"id\":\"5533\",\"subtype\":\"Figure\",\"type\":\"Plot\"},{\"attributes\":{\"source\":{\"id\":\"5615\"}},\"id\":\"5619\",\"type\":\"CDSView\"},{\"attributes\":{},\"id\":\"5553\",\"type\":\"WheelZoomTool\"},{\"attributes\":{\"label\":{\"value\":\"Euler method\"},\"renderers\":[{\"id\":\"5569\"}]},\"id\":\"5580\",\"type\":\"LegendItem\"},{\"attributes\":{\"data\":{\"x\":[1,2.4,3.8,5.199999999999999,6.6,8.0,9.4,10.8,12.200000000000001,13.600000000000001,15.000000000000002],\"y\":[10,14.977379915360338,19.37159414721407,23.49179280263035,27.443799509458977,31.279044542664412,35.02712607672103,38.706924189351426,42.33135428750057,45.909712018234785,49.44895159646148]},\"selected\":{\"id\":\"5594\"},\"selection_policy\":{\"id\":\"5595\"}},\"id\":\"5581\",\"type\":\"ColumnDataSource\"},{\"attributes\":{\"overlay\":{\"id\":\"5558\"}},\"id\":\"5554\",\"type\":\"BoxZoomTool\"},{\"attributes\":{},\"id\":\"5633\",\"type\":\"UnionRenderers\"},{\"attributes\":{},\"id\":\"5555\",\"type\":\"SaveTool\"},{\"attributes\":{\"label\":{\"value\":\"Exact solution\"},\"renderers\":[{\"id\":\"5618\"}]},\"id\":\"5634\",\"type\":\"LegendItem\"},{\"attributes\":{\"line_alpha\":0.1,\"line_color\":\"red\",\"x\":{\"field\":\"x\"},\"y\":{\"field\":\"y\"}},\"id\":\"5583\",\"type\":\"Line\"},{\"attributes\":{},\"id\":\"5556\",\"type\":\"ResetTool\"},{\"attributes\":{\"data_source\":{\"id\":\"5581\"},\"glyph\":{\"id\":\"5582\"},\"hover_glyph\":null,\"muted_glyph\":null,\"nonselection_glyph\":{\"id\":\"5583\"},\"selection_glyph\":null,\"view\":{\"id\":\"5585\"}},\"id\":\"5584\",\"type\":\"GlyphRenderer\"},{\"attributes\":{\"line_alpha\":0.1,\"line_color\":\"blue\",\"x\":{\"field\":\"x\"},\"y\":{\"field\":\"y\"}},\"id\":\"5568\",\"type\":\"Line\"},{\"attributes\":{\"text\":\"Methods\"},\"id\":\"5534\",\"type\":\"Title\"},{\"attributes\":{},\"id\":\"5557\",\"type\":\"HelpTool\"},{\"attributes\":{\"line_color\":\"red\",\"x\":{\"field\":\"x\"},\"y\":{\"field\":\"y\"}},\"id\":\"5582\",\"type\":\"Line\"},{\"attributes\":{},\"id\":\"5536\",\"type\":\"DataRange1d\"},{\"attributes\":{\"source\":{\"id\":\"5581\"}},\"id\":\"5585\",\"type\":\"CDSView\"},{\"attributes\":{\"data\":{\"x\":[1,2.4,3.8,5.199999999999999,6.6,8.0,9.4,10.8,12.200000000000001,13.600000000000001,15.000000000000002],\"y\":[10,15.00115900054747,19.402590506792784,23.527043077924418,27.48222211445358,31.320093503012465,35.07046977700272,38.75233646690909,42.37866856507648,45.958798870800194,49.4997065100229]},\"selected\":{\"id\":\"5612\"},\"selection_policy\":{\"id\":\"5613\"}},\"id\":\"5597\",\"type\":\"ColumnDataSource\"},{\"attributes\":{\"active_drag\":\"auto\",\"active_inspect\":\"auto\",\"active_multi\":null,\"active_scroll\":\"auto\",\"active_tap\":\"auto\",\"tools\":[{\"id\":\"5552\"},{\"id\":\"5553\"},{\"id\":\"5554\"},{\"id\":\"5555\"},{\"id\":\"5556\"},{\"id\":\"5557\"}]},\"id\":\"5559\",\"type\":\"Toolbar\"},{\"attributes\":{},\"id\":\"5538\",\"type\":\"DataRange1d\"},{\"attributes\":{},\"id\":\"5612\",\"type\":\"Selection\"},{\"attributes\":{\"axis_label\":\"y\",\"formatter\":{\"id\":\"5574\"},\"ticker\":{\"id\":\"5549\"}},\"id\":\"5548\",\"type\":\"LinearAxis\"},{\"attributes\":{},\"id\":\"5540\",\"type\":\"LinearScale\"},{\"attributes\":{},\"id\":\"5595\",\"type\":\"UnionRenderers\"},{\"attributes\":{\"line_alpha\":0.1,\"line_color\":\"green\",\"x\":{\"field\":\"x\"},\"y\":{\"field\":\"y\"}},\"id\":\"5599\",\"type\":\"Line\"},{\"attributes\":{},\"id\":\"5542\",\"type\":\"LinearScale\"},{\"attributes\":{\"data_source\":{\"id\":\"5597\"},\"glyph\":{\"id\":\"5598\"},\"hover_glyph\":null,\"muted_glyph\":null,\"nonselection_glyph\":{\"id\":\"5599\"},\"selection_glyph\":null,\"view\":{\"id\":\"5601\"}},\"id\":\"5600\",\"type\":\"GlyphRenderer\"},{\"attributes\":{},\"id\":\"5594\",\"type\":\"Selection\"},{\"attributes\":{\"data\":{\"x\":[1,2.4,3.8,5.199999999999999,6.6,8.0,9.4,10.8,12.200000000000001,13.600000000000001,15.000000000000002],\"y\":[10,15.6,20.2832910318764,24.59909418125312,28.703158949027458,32.66518322978003,36.52342851682852,40.30156295223595,44.01543143393299,47.6762568600592,51.29233221059307]},\"selected\":{\"id\":\"5577\"},\"selection_policy\":{\"id\":\"5578\"}},\"id\":\"5566\",\"type\":\"ColumnDataSource\"},{\"attributes\":{\"axis_label\":\"x\",\"formatter\":{\"id\":\"5572\"},\"ticker\":{\"id\":\"5545\"}},\"id\":\"5544\",\"type\":\"LinearAxis\"},{\"attributes\":{\"line_color\":\"green\",\"x\":{\"field\":\"x\"},\"y\":{\"field\":\"y\"}},\"id\":\"5598\",\"type\":\"Line\"},{\"attributes\":{\"bottom_units\":\"screen\",\"fill_alpha\":0.5,\"fill_color\":\"lightgrey\",\"left_units\":\"screen\",\"level\":\"overlay\",\"line_alpha\":1.0,\"line_color\":\"black\",\"line_dash\":[4,4],\"line_width\":2,\"right_units\":\"screen\",\"top_units\":\"screen\"},\"id\":\"5558\",\"type\":\"BoxAnnotation\"},{\"attributes\":{\"source\":{\"id\":\"5597\"}},\"id\":\"5601\",\"type\":\"CDSView\"},{\"attributes\":{},\"id\":\"5545\",\"type\":\"BasicTicker\"},{\"attributes\":{\"data_source\":{\"id\":\"5566\"},\"glyph\":{\"id\":\"5567\"},\"hover_glyph\":null,\"muted_glyph\":null,\"nonselection_glyph\":{\"id\":\"5568\"},\"selection_glyph\":null,\"view\":{\"id\":\"5570\"}},\"id\":\"5569\",\"type\":\"GlyphRenderer\"},{\"attributes\":{\"line_color\":\"blue\",\"x\":{\"field\":\"x\"},\"y\":{\"field\":\"y\"}},\"id\":\"5567\",\"type\":\"Line\"},{\"attributes\":{\"axis\":{\"id\":\"5544\"},\"ticker\":null},\"id\":\"5547\",\"type\":\"Grid\"},{\"attributes\":{},\"id\":\"5613\",\"type\":\"UnionRenderers\"},{\"attributes\":{\"source\":{\"id\":\"5566\"}},\"id\":\"5570\",\"type\":\"CDSView\"},{\"attributes\":{},\"id\":\"5549\",\"type\":\"BasicTicker\"},{\"attributes\":{\"label\":{\"value\":\"Runge-Kutta method\"},\"renderers\":[{\"id\":\"5600\"}]},\"id\":\"5614\",\"type\":\"LegendItem\"},{\"attributes\":{\"axis\":{\"id\":\"5548\"},\"dimension\":1,\"ticker\":null},\"id\":\"5551\",\"type\":\"Grid\"},{\"attributes\":{\"data\":{\"x\":[1,2.4,3.8,5.199999999999999,6.6,8.0,9.4,10.8,12.200000000000001,13.600000000000001,15.000000000000002],\"y\":[10,14.996773353931864,19.397435475847175,23.5214034007931,27.476186062932104,31.31370849898476,35.06376777340471,38.74534138012398,42.37139935725839,45.95127113166863,49.49193338482967]},\"selected\":{\"id\":\"5632\"},\"selection_policy\":{\"id\":\"5633\"}},\"id\":\"5615\",\"type\":\"ColumnDataSource\"},{\"attributes\":{},\"id\":\"5574\",\"type\":\"BasicTickFormatter\"},{\"attributes\":{},\"id\":\"5632\",\"type\":\"Selection\"},{\"attributes\":{},\"id\":\"5577\",\"type\":\"Selection\"},{\"attributes\":{},\"id\":\"5572\",\"type\":\"BasicTickFormatter\"},{\"attributes\":{\"line_alpha\":0.1,\"x\":{\"field\":\"x\"},\"y\":{\"field\":\"y\"}},\"id\":\"5617\",\"type\":\"Line\"},{\"attributes\":{},\"id\":\"5578\",\"type\":\"UnionRenderers\"},{\"attributes\":{\"x\":{\"field\":\"x\"},\"y\":{\"field\":\"y\"}},\"id\":\"5616\",\"type\":\"Line\"},{\"attributes\":{\"data_source\":{\"id\":\"5615\"},\"glyph\":{\"id\":\"5616\"},\"hover_glyph\":null,\"muted_glyph\":null,\"nonselection_glyph\":{\"id\":\"5617\"},\"selection_glyph\":null,\"view\":{\"id\":\"5619\"}},\"id\":\"5618\",\"type\":\"GlyphRenderer\"},{\"attributes\":{\"label\":{\"value\":\"Improved Euler method\"},\"renderers\":[{\"id\":\"5584\"}]},\"id\":\"5596\",\"type\":\"LegendItem\"},{\"attributes\":{\"click_policy\":\"hide\",\"items\":[{\"id\":\"5580\"},{\"id\":\"5596\"},{\"id\":\"5614\"},{\"id\":\"5634\"}]},\"id\":\"5579\",\"type\":\"Legend\"},{\"attributes\":{},\"id\":\"5552\",\"type\":\"PanTool\"}],\"root_ids\":[\"5533\"]},\"title\":\"Bokeh Application\",\"version\":\"2.1.1\"}};\n",
              "  var render_items = [{\"docid\":\"ee847510-2521-44b4-9e7d-4f9804988c4f\",\"root_ids\":[\"5533\"],\"roots\":{\"5533\":\"a907d9e6-219d-427e-bf65-e0585cc7be8d\"}}];\n",
              "  root.Bokeh.embed.embed_items_notebook(docs_json, render_items);\n",
              "\n",
              "  }\n",
              "  if (root.Bokeh !== undefined) {\n",
              "    embed_document(root);\n",
              "  } else {\n",
              "    var attempts = 0;\n",
              "    var timer = setInterval(function(root) {\n",
              "      if (root.Bokeh !== undefined) {\n",
              "        clearInterval(timer);\n",
              "        embed_document(root);\n",
              "      } else {\n",
              "        attempts++;\n",
              "        if (attempts > 100) {\n",
              "          clearInterval(timer);\n",
              "          console.log(\"Bokeh: ERROR: Unable to run BokehJS code because BokehJS library is missing\");\n",
              "        }\n",
              "      }\n",
              "    }, 10, root)\n",
              "  }\n",
              "})(window);"
            ],
            "application/vnd.bokehjs_exec.v0+json": ""
          },
          "metadata": {
            "tags": [],
            "application/vnd.bokehjs_exec.v0+json": {
              "id": "5533"
            }
          }
        },
        {
          "output_type": "display_data",
          "data": {
            "text/html": [
              "\n",
              "\n",
              "\n",
              "\n",
              "\n",
              "\n",
              "  <div class=\"bk-root\" id=\"0e69669c-a8b8-4609-9798-9b86dd828736\" data-root-id=\"5939\"></div>\n"
            ]
          },
          "metadata": {
            "tags": []
          }
        },
        {
          "output_type": "display_data",
          "data": {
            "application/javascript": [
              "(function(root) {\n",
              "  function embed_document(root) {\n",
              "    \n",
              "  var docs_json = {\"075f71f0-7193-462d-93d3-9dff9805b4bb\":{\"roots\":{\"references\":[{\"attributes\":{\"below\":[{\"id\":\"5950\"}],\"center\":[{\"id\":\"5953\"},{\"id\":\"5957\"},{\"id\":\"5985\"}],\"left\":[{\"id\":\"5954\"}],\"renderers\":[{\"id\":\"5975\"},{\"id\":\"5990\"},{\"id\":\"6006\"}],\"title\":{\"id\":\"5940\"},\"toolbar\":{\"id\":\"5965\"},\"x_range\":{\"id\":\"5942\"},\"x_scale\":{\"id\":\"5946\"},\"y_range\":{\"id\":\"5944\"},\"y_scale\":{\"id\":\"5948\"}},\"id\":\"5939\",\"subtype\":\"Figure\",\"type\":\"Plot\"},{\"attributes\":{},\"id\":\"6000\",\"type\":\"Selection\"},{\"attributes\":{\"line_alpha\":0.1,\"line_color\":\"blue\",\"x\":{\"field\":\"x\"},\"y\":{\"field\":\"y\"}},\"id\":\"5974\",\"type\":\"Line\"},{\"attributes\":{\"line_alpha\":0.1,\"line_color\":\"red\",\"x\":{\"field\":\"x\"},\"y\":{\"field\":\"y\"}},\"id\":\"5989\",\"type\":\"Line\"},{\"attributes\":{},\"id\":\"5978\",\"type\":\"BasicTickFormatter\"},{\"attributes\":{\"data_source\":{\"id\":\"5987\"},\"glyph\":{\"id\":\"5988\"},\"hover_glyph\":null,\"muted_glyph\":null,\"nonselection_glyph\":{\"id\":\"5989\"},\"selection_glyph\":null,\"view\":{\"id\":\"5991\"}},\"id\":\"5990\",\"type\":\"GlyphRenderer\"},{\"attributes\":{\"label\":{\"value\":\"Euler method\"},\"renderers\":[{\"id\":\"5975\"}]},\"id\":\"5986\",\"type\":\"LegendItem\"},{\"attributes\":{},\"id\":\"5958\",\"type\":\"PanTool\"},{\"attributes\":{\"line_color\":\"red\",\"x\":{\"field\":\"x\"},\"y\":{\"field\":\"y\"}},\"id\":\"5988\",\"type\":\"Line\"},{\"attributes\":{\"data\":{\"x\":[1,2.4,3.8,5.199999999999999,6.6,8.0,9.4,10.8,12.200000000000001,13.600000000000001,15.000000000000002],\"y\":[0,0.6032266460681353,0.20673010631481503,0.11240176797328871,0.07309856489083799,0.052376085773477854,0.039890219241215163,0.03168569555555223,0.025954890095846395,0.021765893629172695,0.018594349204256844]},\"selected\":{\"id\":\"5983\"},\"selection_policy\":{\"id\":\"5984\"}},\"id\":\"5972\",\"type\":\"ColumnDataSource\"},{\"attributes\":{\"source\":{\"id\":\"5987\"}},\"id\":\"5991\",\"type\":\"CDSView\"},{\"attributes\":{},\"id\":\"5959\",\"type\":\"WheelZoomTool\"},{\"attributes\":{},\"id\":\"5983\",\"type\":\"Selection\"},{\"attributes\":{\"overlay\":{\"id\":\"5964\"}},\"id\":\"5960\",\"type\":\"BoxZoomTool\"},{\"attributes\":{\"axis_label\":\"x\",\"formatter\":{\"id\":\"5978\"},\"ticker\":{\"id\":\"5951\"}},\"id\":\"5950\",\"type\":\"LinearAxis\"},{\"attributes\":{},\"id\":\"6001\",\"type\":\"UnionRenderers\"},{\"attributes\":{},\"id\":\"5961\",\"type\":\"SaveTool\"},{\"attributes\":{\"label\":{\"value\":\"Improved Euler method\"},\"renderers\":[{\"id\":\"5990\"}]},\"id\":\"6002\",\"type\":\"LegendItem\"},{\"attributes\":{},\"id\":\"5962\",\"type\":\"ResetTool\"},{\"attributes\":{\"data\":{\"x\":[1,2.4,3.8,5.199999999999999,6.6,8.0,9.4,10.8,12.200000000000001,13.600000000000001,15.000000000000002],\"y\":[0,0.0043856466156064755,0.00027489472025621353,5.2631960365090436e-05,1.6022282359529072e-05,6.314698708820288e-06,2.9361221436374763e-06,1.5317365225087087e-06,8.698328102241248e-07,5.27207184575218e-07,3.364698315522219e-07]},\"selected\":{\"id\":\"6018\"},\"selection_policy\":{\"id\":\"6019\"}},\"id\":\"6003\",\"type\":\"ColumnDataSource\"},{\"attributes\":{},\"id\":\"5963\",\"type\":\"HelpTool\"},{\"attributes\":{},\"id\":\"5944\",\"type\":\"DataRange1d\"},{\"attributes\":{\"axis\":{\"id\":\"5954\"},\"dimension\":1,\"ticker\":null},\"id\":\"5957\",\"type\":\"Grid\"},{\"attributes\":{},\"id\":\"6018\",\"type\":\"Selection\"},{\"attributes\":{\"data\":{\"x\":[1,2.4,3.8,5.199999999999999,6.6,8.0,9.4,10.8,12.200000000000001,13.600000000000001,15.000000000000002],\"y\":[0,0.019393438571526644,0.0042707354159219335,0.0016071915741129317,0.0007803438077722546,0.00043948304778851366,0.00027280425312170564,0.00018140210006123425,0.0001269708414426418,9.247303457016187e-05,6.951634203744561e-05]},\"selected\":{\"id\":\"6000\"},\"selection_policy\":{\"id\":\"6001\"}},\"id\":\"5987\",\"type\":\"ColumnDataSource\"},{\"attributes\":{\"active_drag\":\"auto\",\"active_inspect\":\"auto\",\"active_multi\":null,\"active_scroll\":\"auto\",\"active_tap\":\"auto\",\"tools\":[{\"id\":\"5958\"},{\"id\":\"5959\"},{\"id\":\"5960\"},{\"id\":\"5961\"},{\"id\":\"5962\"},{\"id\":\"5963\"}]},\"id\":\"5965\",\"type\":\"Toolbar\"},{\"attributes\":{\"line_alpha\":0.1,\"line_color\":\"green\",\"x\":{\"field\":\"x\"},\"y\":{\"field\":\"y\"}},\"id\":\"6005\",\"type\":\"Line\"},{\"attributes\":{\"text\":\"LTE\"},\"id\":\"5940\",\"type\":\"Title\"},{\"attributes\":{\"data_source\":{\"id\":\"6003\"},\"glyph\":{\"id\":\"6004\"},\"hover_glyph\":null,\"muted_glyph\":null,\"nonselection_glyph\":{\"id\":\"6005\"},\"selection_glyph\":null,\"view\":{\"id\":\"6007\"}},\"id\":\"6006\",\"type\":\"GlyphRenderer\"},{\"attributes\":{\"click_policy\":\"hide\",\"items\":[{\"id\":\"5986\"},{\"id\":\"6002\"},{\"id\":\"6020\"}]},\"id\":\"5985\",\"type\":\"Legend\"},{\"attributes\":{},\"id\":\"5955\",\"type\":\"BasicTicker\"},{\"attributes\":{\"line_color\":\"green\",\"x\":{\"field\":\"x\"},\"y\":{\"field\":\"y\"}},\"id\":\"6004\",\"type\":\"Line\"},{\"attributes\":{\"source\":{\"id\":\"6003\"}},\"id\":\"6007\",\"type\":\"CDSView\"},{\"attributes\":{},\"id\":\"5984\",\"type\":\"UnionRenderers\"},{\"attributes\":{\"axis_label\":\"y\",\"formatter\":{\"id\":\"5980\"},\"ticker\":{\"id\":\"5955\"}},\"id\":\"5954\",\"type\":\"LinearAxis\"},{\"attributes\":{\"bottom_units\":\"screen\",\"fill_alpha\":0.5,\"fill_color\":\"lightgrey\",\"left_units\":\"screen\",\"level\":\"overlay\",\"line_alpha\":1.0,\"line_color\":\"black\",\"line_dash\":[4,4],\"line_width\":2,\"right_units\":\"screen\",\"top_units\":\"screen\"},\"id\":\"5964\",\"type\":\"BoxAnnotation\"},{\"attributes\":{\"axis\":{\"id\":\"5950\"},\"ticker\":null},\"id\":\"5953\",\"type\":\"Grid\"},{\"attributes\":{},\"id\":\"6019\",\"type\":\"UnionRenderers\"},{\"attributes\":{\"data_source\":{\"id\":\"5972\"},\"glyph\":{\"id\":\"5973\"},\"hover_glyph\":null,\"muted_glyph\":null,\"nonselection_glyph\":{\"id\":\"5974\"},\"selection_glyph\":null,\"view\":{\"id\":\"5976\"}},\"id\":\"5975\",\"type\":\"GlyphRenderer\"},{\"attributes\":{\"line_color\":\"blue\",\"x\":{\"field\":\"x\"},\"y\":{\"field\":\"y\"}},\"id\":\"5973\",\"type\":\"Line\"},{\"attributes\":{\"label\":{\"value\":\"Runge-Kutta method\"},\"renderers\":[{\"id\":\"6006\"}]},\"id\":\"6020\",\"type\":\"LegendItem\"},{\"attributes\":{\"source\":{\"id\":\"5972\"}},\"id\":\"5976\",\"type\":\"CDSView\"},{\"attributes\":{},\"id\":\"5951\",\"type\":\"BasicTicker\"},{\"attributes\":{},\"id\":\"5942\",\"type\":\"DataRange1d\"},{\"attributes\":{},\"id\":\"5948\",\"type\":\"LinearScale\"},{\"attributes\":{},\"id\":\"5980\",\"type\":\"BasicTickFormatter\"},{\"attributes\":{},\"id\":\"5946\",\"type\":\"LinearScale\"}],\"root_ids\":[\"5939\"]},\"title\":\"Bokeh Application\",\"version\":\"2.1.1\"}};\n",
              "  var render_items = [{\"docid\":\"075f71f0-7193-462d-93d3-9dff9805b4bb\",\"root_ids\":[\"5939\"],\"roots\":{\"5939\":\"0e69669c-a8b8-4609-9798-9b86dd828736\"}}];\n",
              "  root.Bokeh.embed.embed_items_notebook(docs_json, render_items);\n",
              "\n",
              "  }\n",
              "  if (root.Bokeh !== undefined) {\n",
              "    embed_document(root);\n",
              "  } else {\n",
              "    var attempts = 0;\n",
              "    var timer = setInterval(function(root) {\n",
              "      if (root.Bokeh !== undefined) {\n",
              "        clearInterval(timer);\n",
              "        embed_document(root);\n",
              "      } else {\n",
              "        attempts++;\n",
              "        if (attempts > 100) {\n",
              "          clearInterval(timer);\n",
              "          console.log(\"Bokeh: ERROR: Unable to run BokehJS code because BokehJS library is missing\");\n",
              "        }\n",
              "      }\n",
              "    }, 10, root)\n",
              "  }\n",
              "})(window);"
            ],
            "application/vnd.bokehjs_exec.v0+json": ""
          },
          "metadata": {
            "tags": [],
            "application/vnd.bokehjs_exec.v0+json": {
              "id": "5939"
            }
          }
        },
        {
          "output_type": "display_data",
          "data": {
            "text/html": [
              "\n",
              "\n",
              "\n",
              "\n",
              "\n",
              "\n",
              "  <div class=\"bk-root\" id=\"95661ddb-8bab-4525-b315-2a911f4c3aae\" data-root-id=\"6325\"></div>\n"
            ]
          },
          "metadata": {
            "tags": []
          }
        },
        {
          "output_type": "display_data",
          "data": {
            "application/javascript": [
              "(function(root) {\n",
              "  function embed_document(root) {\n",
              "    \n",
              "  var docs_json = {\"e4bd5c38-5d0b-4a55-b24e-275adffe0731\":{\"roots\":{\"references\":[{\"attributes\":{\"below\":[{\"id\":\"6336\"}],\"center\":[{\"id\":\"6339\"},{\"id\":\"6343\"},{\"id\":\"6371\"}],\"left\":[{\"id\":\"6340\"}],\"renderers\":[{\"id\":\"6361\"},{\"id\":\"6376\"},{\"id\":\"6392\"}],\"title\":{\"id\":\"6326\"},\"toolbar\":{\"id\":\"6351\"},\"x_range\":{\"id\":\"6328\"},\"x_scale\":{\"id\":\"6332\"},\"y_range\":{\"id\":\"6330\"},\"y_scale\":{\"id\":\"6334\"}},\"id\":\"6325\",\"subtype\":\"Figure\",\"type\":\"Plot\"},{\"attributes\":{},\"id\":\"6349\",\"type\":\"HelpTool\"},{\"attributes\":{},\"id\":\"6328\",\"type\":\"DataRange1d\"},{\"attributes\":{\"click_policy\":\"hide\",\"items\":[{\"id\":\"6372\"},{\"id\":\"6388\"},{\"id\":\"6406\"}]},\"id\":\"6371\",\"type\":\"Legend\"},{\"attributes\":{\"data\":{\"x\":[1,2.4,3.8,5.199999999999999,6.6,8.0,9.4,10.8,12.200000000000001,13.600000000000001,15.000000000000002],\"y\":[0,0.0043856466156064755,0.005155030945608985,0.005639677131316745,0.006036051521476793,0.006385004027706032,0.006702003598007877,0.006995086785110516,0.007269207818090706,0.007527739131560907,0.007773125193224928]},\"selected\":{\"id\":\"6404\"},\"selection_policy\":{\"id\":\"6405\"}},\"id\":\"6389\",\"type\":\"ColumnDataSource\"},{\"attributes\":{\"active_drag\":\"auto\",\"active_inspect\":\"auto\",\"active_multi\":null,\"active_scroll\":\"auto\",\"active_tap\":\"auto\",\"tools\":[{\"id\":\"6344\"},{\"id\":\"6345\"},{\"id\":\"6346\"},{\"id\":\"6347\"},{\"id\":\"6348\"},{\"id\":\"6349\"}]},\"id\":\"6351\",\"type\":\"Toolbar\"},{\"attributes\":{},\"id\":\"6330\",\"type\":\"DataRange1d\"},{\"attributes\":{},\"id\":\"6404\",\"type\":\"Selection\"},{\"attributes\":{},\"id\":\"6332\",\"type\":\"LinearScale\"},{\"attributes\":{\"line_alpha\":0.1,\"line_color\":\"green\",\"x\":{\"field\":\"x\"},\"y\":{\"field\":\"y\"}},\"id\":\"6391\",\"type\":\"Line\"},{\"attributes\":{},\"id\":\"6369\",\"type\":\"Selection\"},{\"attributes\":{\"data_source\":{\"id\":\"6389\"},\"glyph\":{\"id\":\"6390\"},\"hover_glyph\":null,\"muted_glyph\":null,\"nonselection_glyph\":{\"id\":\"6391\"},\"selection_glyph\":null,\"view\":{\"id\":\"6393\"}},\"id\":\"6392\",\"type\":\"GlyphRenderer\"},{\"attributes\":{},\"id\":\"6334\",\"type\":\"LinearScale\"},{\"attributes\":{},\"id\":\"6366\",\"type\":\"BasicTickFormatter\"},{\"attributes\":{\"line_color\":\"green\",\"x\":{\"field\":\"x\"},\"y\":{\"field\":\"y\"}},\"id\":\"6390\",\"type\":\"Line\"},{\"attributes\":{\"axis_label\":\"x\",\"formatter\":{\"id\":\"6364\"},\"ticker\":{\"id\":\"6337\"}},\"id\":\"6336\",\"type\":\"LinearAxis\"},{\"attributes\":{\"source\":{\"id\":\"6389\"}},\"id\":\"6393\",\"type\":\"CDSView\"},{\"attributes\":{\"bottom_units\":\"screen\",\"fill_alpha\":0.5,\"fill_color\":\"lightgrey\",\"left_units\":\"screen\",\"level\":\"overlay\",\"line_alpha\":1.0,\"line_color\":\"black\",\"line_dash\":[4,4],\"line_width\":2,\"right_units\":\"screen\",\"top_units\":\"screen\"},\"id\":\"6350\",\"type\":\"BoxAnnotation\"},{\"attributes\":{},\"id\":\"6337\",\"type\":\"BasicTicker\"},{\"attributes\":{\"data_source\":{\"id\":\"6358\"},\"glyph\":{\"id\":\"6359\"},\"hover_glyph\":null,\"muted_glyph\":null,\"nonselection_glyph\":{\"id\":\"6360\"},\"selection_glyph\":null,\"view\":{\"id\":\"6362\"}},\"id\":\"6361\",\"type\":\"GlyphRenderer\"},{\"attributes\":{\"axis\":{\"id\":\"6336\"},\"ticker\":null},\"id\":\"6339\",\"type\":\"Grid\"},{\"attributes\":{\"line_color\":\"blue\",\"x\":{\"field\":\"x\"},\"y\":{\"field\":\"y\"}},\"id\":\"6359\",\"type\":\"Line\"},{\"attributes\":{},\"id\":\"6405\",\"type\":\"UnionRenderers\"},{\"attributes\":{\"axis_label\":\"y\",\"formatter\":{\"id\":\"6366\"},\"ticker\":{\"id\":\"6341\"}},\"id\":\"6340\",\"type\":\"LinearAxis\"},{\"attributes\":{\"source\":{\"id\":\"6358\"}},\"id\":\"6362\",\"type\":\"CDSView\"},{\"attributes\":{\"label\":{\"value\":\"Runge-Kutta method\"},\"renderers\":[{\"id\":\"6392\"}]},\"id\":\"6406\",\"type\":\"LegendItem\"},{\"attributes\":{},\"id\":\"6341\",\"type\":\"BasicTicker\"},{\"attributes\":{\"label\":{\"value\":\"Euler method\"},\"renderers\":[{\"id\":\"6361\"}]},\"id\":\"6372\",\"type\":\"LegendItem\"},{\"attributes\":{\"axis\":{\"id\":\"6340\"},\"dimension\":1,\"ticker\":null},\"id\":\"6343\",\"type\":\"Grid\"},{\"attributes\":{\"data\":{\"x\":[1,2.4,3.8,5.199999999999999,6.6,8.0,9.4,10.8,12.200000000000001,13.600000000000001,15.000000000000002],\"y\":[0,0.019393438571526644,0.025841328633106286,0.029610598162751245,0.03238655347312758,0.03466395632034747,0.03664169668368089,0.0384171907725559,0.040045069757823626,0.04155911343384844,0.042981788368194884]},\"selected\":{\"id\":\"6386\"},\"selection_policy\":{\"id\":\"6387\"}},\"id\":\"6373\",\"type\":\"ColumnDataSource\"},{\"attributes\":{\"line_alpha\":0.1,\"line_color\":\"blue\",\"x\":{\"field\":\"x\"},\"y\":{\"field\":\"y\"}},\"id\":\"6360\",\"type\":\"Line\"},{\"attributes\":{},\"id\":\"6386\",\"type\":\"Selection\"},{\"attributes\":{\"line_alpha\":0.1,\"line_color\":\"red\",\"x\":{\"field\":\"x\"},\"y\":{\"field\":\"y\"}},\"id\":\"6375\",\"type\":\"Line\"},{\"attributes\":{},\"id\":\"6370\",\"type\":\"UnionRenderers\"},{\"attributes\":{\"data_source\":{\"id\":\"6373\"},\"glyph\":{\"id\":\"6374\"},\"hover_glyph\":null,\"muted_glyph\":null,\"nonselection_glyph\":{\"id\":\"6375\"},\"selection_glyph\":null,\"view\":{\"id\":\"6377\"}},\"id\":\"6376\",\"type\":\"GlyphRenderer\"},{\"attributes\":{},\"id\":\"6344\",\"type\":\"PanTool\"},{\"attributes\":{\"label\":{\"value\":\"Improved Euler method\"},\"renderers\":[{\"id\":\"6376\"}]},\"id\":\"6388\",\"type\":\"LegendItem\"},{\"attributes\":{\"line_color\":\"red\",\"x\":{\"field\":\"x\"},\"y\":{\"field\":\"y\"}},\"id\":\"6374\",\"type\":\"Line\"},{\"attributes\":{},\"id\":\"6345\",\"type\":\"WheelZoomTool\"},{\"attributes\":{\"source\":{\"id\":\"6373\"}},\"id\":\"6377\",\"type\":\"CDSView\"},{\"attributes\":{\"overlay\":{\"id\":\"6350\"}},\"id\":\"6346\",\"type\":\"BoxZoomTool\"},{\"attributes\":{},\"id\":\"6364\",\"type\":\"BasicTickFormatter\"},{\"attributes\":{},\"id\":\"6347\",\"type\":\"SaveTool\"},{\"attributes\":{\"data\":{\"x\":[1,2.4,3.8,5.199999999999999,6.6,8.0,9.4,10.8,12.200000000000001,13.600000000000001,15.000000000000002],\"y\":[0,0.6032266460681353,0.8858555560292238,1.077690780460017,1.2269728860953535,1.3514747307952675,1.4596607434238038,1.5562215721119657,1.6440320766745984,1.724985728390564,1.800398825763395]},\"selected\":{\"id\":\"6369\"},\"selection_policy\":{\"id\":\"6370\"}},\"id\":\"6358\",\"type\":\"ColumnDataSource\"},{\"attributes\":{},\"id\":\"6387\",\"type\":\"UnionRenderers\"},{\"attributes\":{},\"id\":\"6348\",\"type\":\"ResetTool\"},{\"attributes\":{\"text\":\"GTE\"},\"id\":\"6326\",\"type\":\"Title\"}],\"root_ids\":[\"6325\"]},\"title\":\"Bokeh Application\",\"version\":\"2.1.1\"}};\n",
              "  var render_items = [{\"docid\":\"e4bd5c38-5d0b-4a55-b24e-275adffe0731\",\"root_ids\":[\"6325\"],\"roots\":{\"6325\":\"95661ddb-8bab-4525-b315-2a911f4c3aae\"}}];\n",
              "  root.Bokeh.embed.embed_items_notebook(docs_json, render_items);\n",
              "\n",
              "  }\n",
              "  if (root.Bokeh !== undefined) {\n",
              "    embed_document(root);\n",
              "  } else {\n",
              "    var attempts = 0;\n",
              "    var timer = setInterval(function(root) {\n",
              "      if (root.Bokeh !== undefined) {\n",
              "        clearInterval(timer);\n",
              "        embed_document(root);\n",
              "      } else {\n",
              "        attempts++;\n",
              "        if (attempts > 100) {\n",
              "          clearInterval(timer);\n",
              "          console.log(\"Bokeh: ERROR: Unable to run BokehJS code because BokehJS library is missing\");\n",
              "        }\n",
              "      }\n",
              "    }, 10, root)\n",
              "  }\n",
              "})(window);"
            ],
            "application/vnd.bokehjs_exec.v0+json": ""
          },
          "metadata": {
            "tags": [],
            "application/vnd.bokehjs_exec.v0+json": {
              "id": "6325"
            }
          }
        },
        {
          "output_type": "display_data",
          "data": {
            "text/html": [
              "\n",
              "\n",
              "\n",
              "\n",
              "\n",
              "\n",
              "  <div class=\"bk-root\" id=\"416dfb39-21d5-4997-8a44-d13ed0f0fa48\" data-root-id=\"6723\"></div>\n"
            ]
          },
          "metadata": {
            "tags": []
          }
        },
        {
          "output_type": "display_data",
          "data": {
            "application/javascript": [
              "(function(root) {\n",
              "  function embed_document(root) {\n",
              "    \n",
              "  var docs_json = {\"c9bd5796-1310-483c-ba7e-4687fcfc7894\":{\"roots\":{\"references\":[{\"attributes\":{\"below\":[{\"id\":\"6734\"}],\"center\":[{\"id\":\"6737\"},{\"id\":\"6741\"},{\"id\":\"6769\"}],\"left\":[{\"id\":\"6738\"}],\"renderers\":[{\"id\":\"6759\"},{\"id\":\"6774\"},{\"id\":\"6790\"}],\"title\":{\"id\":\"6724\"},\"toolbar\":{\"id\":\"6749\"},\"x_range\":{\"id\":\"6726\"},\"x_scale\":{\"id\":\"6730\"},\"y_range\":{\"id\":\"6728\"},\"y_scale\":{\"id\":\"6732\"}},\"id\":\"6723\",\"subtype\":\"Figure\",\"type\":\"Plot\"},{\"attributes\":{\"bottom_units\":\"screen\",\"fill_alpha\":0.5,\"fill_color\":\"lightgrey\",\"left_units\":\"screen\",\"level\":\"overlay\",\"line_alpha\":1.0,\"line_color\":\"black\",\"line_dash\":[4,4],\"line_width\":2,\"right_units\":\"screen\",\"top_units\":\"screen\"},\"id\":\"6748\",\"type\":\"BoxAnnotation\"},{\"attributes\":{\"axis_label\":\"x\",\"formatter\":{\"id\":\"6762\"},\"ticker\":{\"id\":\"6735\"}},\"id\":\"6734\",\"type\":\"LinearAxis\"},{\"attributes\":{},\"id\":\"6803\",\"type\":\"UnionRenderers\"},{\"attributes\":{},\"id\":\"6732\",\"type\":\"LinearScale\"},{\"attributes\":{\"label\":{\"value\":\"Runge-Kutta method\"},\"renderers\":[{\"id\":\"6790\"}]},\"id\":\"6804\",\"type\":\"LegendItem\"},{\"attributes\":{},\"id\":\"6768\",\"type\":\"UnionRenderers\"},{\"attributes\":{\"click_policy\":\"hide\",\"items\":[{\"id\":\"6770\"},{\"id\":\"6786\"},{\"id\":\"6804\"}]},\"id\":\"6769\",\"type\":\"Legend\"},{\"attributes\":{},\"id\":\"6730\",\"type\":\"LinearScale\"},{\"attributes\":{\"label\":{\"value\":\"Euler method\"},\"renderers\":[{\"id\":\"6759\"}]},\"id\":\"6770\",\"type\":\"LegendItem\"},{\"attributes\":{},\"id\":\"6726\",\"type\":\"DataRange1d\"},{\"attributes\":{\"data\":{\"x\":[10,11,12,13,14,15,16,17,18,19,20,21,22,23,24,25,26,27,28,29,30,31,32,33,34,35,36,37,38,39,40,41,42,43,44,45,46,47,48,49,50,51,52,53,54,55,56,57,58,59,60,61,62,63,64,65,66,67,68,69,70,71,72,73,74,75,76,77,78,79,80,81,82,83,84,85,86,87,88,89,90,91,92,93,94,95,96,97,98,99,100],\"y\":[0.042981788368194884,0.0384081123411093,0.0343778510990731,0.030857023515125093,0.027790046127130097,0.02511780336021019,0.02278497546989655,0.02074257786166811,0.01894839587266972,0.01736654545823768,0.015966724635966045,0.01472340966969199,0.01361510343343042,0.012623674620058978,0.01173379498575855,0.01093246830903638,0.010208639810230125,0.009552873823636787,0.008957088292603999,0.008414336075887263,0.007918624597017754,0.007464766818891633,0.007048257793002222,0.006665172100767336,0.006312078389946407,0.005985967927308877,0.005684194674124399,0.00540442486021675,0.005144594412101355,0.004902872895087285,0.00467763287498002,0.004467423804214832,0.004270949694692661,0.004087049972781642,0.0039146830139742406,0.0037529119430104174,0.003600892353603058,0.0034578616598466283,0.003323129839493788,0.003196071365501041,0.00307611815709663,0.0029627534077363293,0.002855506165936106,0.0027539465696619914,0.002657681644393506,0.0025663515903247003,0.0024796264971982396,0.00239720342865013,0.00231880383275751,0.0022441712353113985,0.002173069183143639,0.002105279406364957,0.0020406001728900947,0.001978844814196634,0.0019198404012854553,0.0018634265529442473,0.0018094543639861627,0.0017577854367516466,0.0017082910074961433,0.0016608511555276095,0.0016153540867165361,0.0015716954837827757,0.0015297779158984781,0.001489510302342012,0.001450807423921674,0.0014135894767051127,0.0013777816660152098,0.001343313834937021,0.0013101201241880744,0.00127813866087223,0.0012473112734383562,0.0012175832290495237,0.0011889029940022056,0.0011612220124774808,0.001134494501755512,0.0011086772661741406,0.0010837295232803967,0.0010596127439157499,0.0010362905056382488,0.0010137283559004118,0.0009918936854163007,0.0009707556118172533,0.0009502848712870104,0.0009304537173733252,0.0009112358286458289,0.0008926062214271724,0.0008745411692387961,0.0008570181271920774,0.0008400156635843814,0.0008235133934846317,0.0008074919183655993]},\"selected\":{\"id\":\"6784\"},\"selection_policy\":{\"id\":\"6785\"}},\"id\":\"6771\",\"type\":\"ColumnDataSource\"},{\"attributes\":{},\"id\":\"6784\",\"type\":\"Selection\"},{\"attributes\":{\"text\":\"GTE for step = (from 10 to 100)\"},\"id\":\"6724\",\"type\":\"Title\"},{\"attributes\":{\"line_alpha\":0.1,\"line_color\":\"red\",\"x\":{\"field\":\"x\"},\"y\":{\"field\":\"y\"}},\"id\":\"6773\",\"type\":\"Line\"},{\"attributes\":{\"data_source\":{\"id\":\"6771\"},\"glyph\":{\"id\":\"6772\"},\"hover_glyph\":null,\"muted_glyph\":null,\"nonselection_glyph\":{\"id\":\"6773\"},\"selection_glyph\":null,\"view\":{\"id\":\"6775\"}},\"id\":\"6774\",\"type\":\"GlyphRenderer\"},{\"attributes\":{\"data_source\":{\"id\":\"6756\"},\"glyph\":{\"id\":\"6757\"},\"hover_glyph\":null,\"muted_glyph\":null,\"nonselection_glyph\":{\"id\":\"6758\"},\"selection_glyph\":null,\"view\":{\"id\":\"6760\"}},\"id\":\"6759\",\"type\":\"GlyphRenderer\"},{\"attributes\":{\"line_color\":\"red\",\"x\":{\"field\":\"x\"},\"y\":{\"field\":\"y\"}},\"id\":\"6772\",\"type\":\"Line\"},{\"attributes\":{\"source\":{\"id\":\"6771\"}},\"id\":\"6775\",\"type\":\"CDSView\"},{\"attributes\":{\"line_color\":\"green\",\"x\":{\"field\":\"x\"},\"y\":{\"field\":\"y\"}},\"id\":\"6788\",\"type\":\"Line\"},{\"attributes\":{\"line_color\":\"blue\",\"x\":{\"field\":\"x\"},\"y\":{\"field\":\"y\"}},\"id\":\"6757\",\"type\":\"Line\"},{\"attributes\":{},\"id\":\"6764\",\"type\":\"BasicTickFormatter\"},{\"attributes\":{},\"id\":\"6742\",\"type\":\"PanTool\"},{\"attributes\":{},\"id\":\"6785\",\"type\":\"UnionRenderers\"},{\"attributes\":{\"data\":{\"x\":[10,11,12,13,14,15,16,17,18,19,20,21,22,23,24,25,26,27,28,29,30,31,32,33,34,35,36,37,38,39,40,41,42,43,44,45,46,47,48,49,50,51,52,53,54,55,56,57,58,59,60,61,62,63,64,65,66,67,68,69,70,71,72,73,74,75,76,77,78,79,80,81,82,83,84,85,86,87,88,89,90,91,92,93,94,95,96,97,98,99,100],\"y\":[1.800398825763395,1.628795044714579,1.486426806133771,1.3665039233900274,1.264170334548524,1.1758650436737739,1.0989198056231473,1.0312974358514992,0.9714167077819269,0.9180322532399003,0.870150370231805,0.8269688450860784,0.7878331845487381,0.7522042800963575,0.7196341766779994,0.6897476783521554,0.6622282187535333,0.6368068891342276,0.6132538327273167,0.5913714324135952,0.5709888715796794,0.5519577566273597,0.5341485676500284,0.517447760556756,0.5017553856481598,0.4869831186321463,0.4730526232850991,0.4598941825225964,0.4474455480301316,0.4356509688896608,0.4244603676014407,0.4138286381056204,0.4037150452825671,0.39408270925147093,0.3848981608472499,0.3761309570920517,0.36775334744088894,0.3597399831613117,0.3520676634916029,0.3447151132696007,0.33766278757898505,0.33089269966477275,0.3243882689544719,0.31813418649836933,0.31211629554782405,0.30632148532473025,0.30073759631334696,0.29535333564658117,0.290158201352952,0.2851424144029622,0.2802968576343545,0.2756130207584917,0.2710829507541206,0.2666992070423575,0.26245482091536587,0.25834325875590025,0.25435838863923266,0.2504944499632913,0.24674602578939187,0.24310801761640732,0.2395756223437786,0.23614431120272883,0.2328098104648575,0.22956808375347038,0.22641531580652696,0.22334789755336004,0.2203624123824568,0.21745562349161673,0.2146244622224529,0.21186601729007748,0.20917752483013174,0.20655635919148096,0.20400002440879916,0.20150614629886832,0.1990724651289426,0.19669682880554973,0.19437718654585723,0.1921115829894262,0.18989815271471144,0.18773511513042962,0.18562076971092267,0.1835534915478476,0.1815317271959529,0.17955399078989842,0.17761886040972286,0.17572497468040638,0.17387102958437595,0.17205577547471052,0.17027801427069278,0.16853659682765,0.1668304204643576]},\"selected\":{\"id\":\"6767\"},\"selection_policy\":{\"id\":\"6768\"}},\"id\":\"6756\",\"type\":\"ColumnDataSource\"},{\"attributes\":{},\"id\":\"6747\",\"type\":\"HelpTool\"},{\"attributes\":{},\"id\":\"6743\",\"type\":\"WheelZoomTool\"},{\"attributes\":{\"label\":{\"value\":\"Improved Euler method\"},\"renderers\":[{\"id\":\"6774\"}]},\"id\":\"6786\",\"type\":\"LegendItem\"},{\"attributes\":{},\"id\":\"6745\",\"type\":\"SaveTool\"},{\"attributes\":{},\"id\":\"6735\",\"type\":\"BasicTicker\"},{\"attributes\":{\"data\":{\"x\":[10,11,12,13,14,15,16,17,18,19,20,21,22,23,24,25,26,27,28,29,30,31,32,33,34,35,36,37,38,39,40,41,42,43,44,45,46,47,48,49,50,51,52,53,54,55,56,57,58,59,60,61,62,63,64,65,66,67,68,69,70,71,72,73,74,75,76,77,78,79,80,81,82,83,84,85,86,87,88,89,90,91,92,93,94,95,96,97,98,99,100],\"y\":[0.007773125193224928,0.005683990569295361,0.004247717307791277,0.003234879223242615,0.0025046945685573974,0.0019679727474866127,0.0015666149002413476,0.0012618380034368215,0.0010271845403906354,0.0008442511933282049,0.0007000109625252549,0.000585095153574855,0.0004926680350010315,0.00041767568586692505,0.0003563359190579263,0.00030578641379008786,0.00026383844495825315,0.0002288021993166467,0.00019936132544273732,0.00017448179726642365,0.00015334499278196745,0.00013529805782752646,0.00011981674331451586,0.0001064773358834259,9.49352792360969e-05,8.490876461308972e-05,7.616604148807937e-05,6.851553697373447e-05,6.179811062878571e-05,5.588094534658694e-05,5.065270030257807e-05,4.6019642134353944e-05,4.190254204416988e-05,3.8234172485829276e-05,3.495727914071267e-05,3.202292924697758e-05,2.938916089334498e-05,2.7019873641620507e-05,2.4883912772111216e-05,2.2954312136391763e-05,2.1207664126166037e-05,1.962359359453103e-05,1.818431860556302e-05,1.6874280454715063e-05,1.5679832060300214e-05,1.4588975275842131e-05,1.3591136792001635e-05,1.2676978982995024e-05,1.1838237440997545e-05,1.106758284663556e-05,1.035850196018373e-05,9.705195544995604e-06,9.102491027590531e-06,8.545765659562221e-06,8.030881012643931e-06,7.554126391084992e-06,7.112168482592551e-06,6.702008896297684e-06,6.320945622917407e-06,5.966540413737675e-06,5.636589705204642e-06,5.329099344919541e-06,5.04226216690995e-06,4.7744380324843405e-06,4.524136357986208e-06,4.290001335505167e-06,4.070797750443944e-06,3.865398603863923e-06,3.672775278573681e-06,3.491986944936798e-06,3.3221727022691994e-06,3.1625439262938926e-06,3.0123771992407455e-06,2.8710077089044717e-06,2.73782537618672e-06,2.6122681049400853e-06,2.4938184992606693e-06,2.3819999128704694e-06,2.276372242704383e-06,2.17652883094388e-06,2.082094425759351e-06,1.992721315957624e-06,1.9080877180499556e-06,1.8278957796269424e-06,1.751868687449587e-06,1.6797498503251518e-06,1.6113006893192505e-06,1.5463000053728138e-06,1.484541222396274e-06,1.4258324014804202e-06,1.3699949192869099e-06]},\"selected\":{\"id\":\"6802\"},\"selection_policy\":{\"id\":\"6803\"}},\"id\":\"6787\",\"type\":\"ColumnDataSource\"},{\"attributes\":{\"axis\":{\"id\":\"6738\"},\"dimension\":1,\"ticker\":null},\"id\":\"6741\",\"type\":\"Grid\"},{\"attributes\":{\"overlay\":{\"id\":\"6748\"}},\"id\":\"6744\",\"type\":\"BoxZoomTool\"},{\"attributes\":{},\"id\":\"6802\",\"type\":\"Selection\"},{\"attributes\":{},\"id\":\"6746\",\"type\":\"ResetTool\"},{\"attributes\":{\"axis_label\":\"y\",\"formatter\":{\"id\":\"6764\"},\"ticker\":{\"id\":\"6739\"}},\"id\":\"6738\",\"type\":\"LinearAxis\"},{\"attributes\":{\"source\":{\"id\":\"6756\"}},\"id\":\"6760\",\"type\":\"CDSView\"},{\"attributes\":{\"line_alpha\":0.1,\"line_color\":\"blue\",\"x\":{\"field\":\"x\"},\"y\":{\"field\":\"y\"}},\"id\":\"6758\",\"type\":\"Line\"},{\"attributes\":{\"line_alpha\":0.1,\"line_color\":\"green\",\"x\":{\"field\":\"x\"},\"y\":{\"field\":\"y\"}},\"id\":\"6789\",\"type\":\"Line\"},{\"attributes\":{\"data_source\":{\"id\":\"6787\"},\"glyph\":{\"id\":\"6788\"},\"hover_glyph\":null,\"muted_glyph\":null,\"nonselection_glyph\":{\"id\":\"6789\"},\"selection_glyph\":null,\"view\":{\"id\":\"6791\"}},\"id\":\"6790\",\"type\":\"GlyphRenderer\"},{\"attributes\":{},\"id\":\"6739\",\"type\":\"BasicTicker\"},{\"attributes\":{},\"id\":\"6762\",\"type\":\"BasicTickFormatter\"},{\"attributes\":{\"axis\":{\"id\":\"6734\"},\"ticker\":null},\"id\":\"6737\",\"type\":\"Grid\"},{\"attributes\":{\"active_drag\":\"auto\",\"active_inspect\":\"auto\",\"active_multi\":null,\"active_scroll\":\"auto\",\"active_tap\":\"auto\",\"tools\":[{\"id\":\"6742\"},{\"id\":\"6743\"},{\"id\":\"6744\"},{\"id\":\"6745\"},{\"id\":\"6746\"},{\"id\":\"6747\"}]},\"id\":\"6749\",\"type\":\"Toolbar\"},{\"attributes\":{\"source\":{\"id\":\"6787\"}},\"id\":\"6791\",\"type\":\"CDSView\"},{\"attributes\":{},\"id\":\"6767\",\"type\":\"Selection\"},{\"attributes\":{},\"id\":\"6728\",\"type\":\"DataRange1d\"}],\"root_ids\":[\"6723\"]},\"title\":\"Bokeh Application\",\"version\":\"2.1.1\"}};\n",
              "  var render_items = [{\"docid\":\"c9bd5796-1310-483c-ba7e-4687fcfc7894\",\"root_ids\":[\"6723\"],\"roots\":{\"6723\":\"416dfb39-21d5-4997-8a44-d13ed0f0fa48\"}}];\n",
              "  root.Bokeh.embed.embed_items_notebook(docs_json, render_items);\n",
              "\n",
              "  }\n",
              "  if (root.Bokeh !== undefined) {\n",
              "    embed_document(root);\n",
              "  } else {\n",
              "    var attempts = 0;\n",
              "    var timer = setInterval(function(root) {\n",
              "      if (root.Bokeh !== undefined) {\n",
              "        clearInterval(timer);\n",
              "        embed_document(root);\n",
              "      } else {\n",
              "        attempts++;\n",
              "        if (attempts > 100) {\n",
              "          clearInterval(timer);\n",
              "          console.log(\"Bokeh: ERROR: Unable to run BokehJS code because BokehJS library is missing\");\n",
              "        }\n",
              "      }\n",
              "    }, 10, root)\n",
              "  }\n",
              "})(window);"
            ],
            "application/vnd.bokehjs_exec.v0+json": ""
          },
          "metadata": {
            "tags": [],
            "application/vnd.bokehjs_exec.v0+json": {
              "id": "6723"
            }
          }
        }
      ]
    }
  ]
}